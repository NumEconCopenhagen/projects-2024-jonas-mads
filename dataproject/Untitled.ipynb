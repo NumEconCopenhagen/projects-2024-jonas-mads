{
 "cells": [
  {
   "cell_type": "code",
   "execution_count": 1,
   "id": "55d5f2d4-4167-4914-bf78-88cd6a3b22ae",
   "metadata": {},
   "outputs": [
    {
     "ename": "ModuleNotFoundError",
     "evalue": "No module named 'pandas'",
     "output_type": "error",
     "traceback": [
      "\u001b[1;31m---------------------------------------------------------------------------\u001b[0m",
      "\u001b[1;31mModuleNotFoundError\u001b[0m                       Traceback (most recent call last)",
      "Cell \u001b[1;32mIn[1], line 1\u001b[0m\n\u001b[1;32m----> 1\u001b[0m \u001b[38;5;28;01mfrom\u001b[39;00m \u001b[38;5;21;01mfredapi\u001b[39;00m \u001b[38;5;28;01mimport\u001b[39;00m Fred\n\u001b[0;32m      2\u001b[0m \u001b[38;5;28;01mimport\u001b[39;00m \u001b[38;5;21;01mmatplotlib\u001b[39;00m\u001b[38;5;21;01m.\u001b[39;00m\u001b[38;5;21;01mpyplot\u001b[39;00m \u001b[38;5;28;01mas\u001b[39;00m \u001b[38;5;21;01mplt\u001b[39;00m\n\u001b[0;32m      3\u001b[0m \u001b[38;5;28;01mimport\u001b[39;00m \u001b[38;5;21;01mmatplotlib\u001b[39;00m\u001b[38;5;21;01m.\u001b[39;00m\u001b[38;5;21;01mdates\u001b[39;00m \u001b[38;5;28;01mas\u001b[39;00m \u001b[38;5;21;01mmdates\u001b[39;00m\n",
      "File \u001b[1;32m~\\DataProject\\fredapi\\__init__.py:3\u001b[0m\n\u001b[0;32m      2\u001b[0m \u001b[38;5;28;01mfrom\u001b[39;00m \u001b[38;5;21;01mfredapi\u001b[39;00m\u001b[38;5;21;01m.\u001b[39;00m\u001b[38;5;21;01mversion\u001b[39;00m \u001b[38;5;28;01mimport\u001b[39;00m version \u001b[38;5;28;01mas\u001b[39;00m __version__\n\u001b[1;32m----> 3\u001b[0m \u001b[38;5;28;01mfrom\u001b[39;00m \u001b[38;5;21;01mfredapi\u001b[39;00m\u001b[38;5;21;01m.\u001b[39;00m\u001b[38;5;21;01mfred\u001b[39;00m \u001b[38;5;28;01mimport\u001b[39;00m Fred\n",
      "File \u001b[1;32m~\\DataProject\\fredapi\\fred.py:14\u001b[0m\n\u001b[0;32m     11\u001b[0m     \u001b[38;5;28;01mimport\u001b[39;00m \u001b[38;5;21;01murllib\u001b[39;00m \u001b[38;5;28;01mas\u001b[39;00m \u001b[38;5;21;01murl_parse\u001b[39;00m\n\u001b[0;32m     12\u001b[0m     \u001b[38;5;28;01mimport\u001b[39;00m \u001b[38;5;21;01murllib2\u001b[39;00m \u001b[38;5;28;01mas\u001b[39;00m \u001b[38;5;21;01murl_error\u001b[39;00m\n\u001b[1;32m---> 14\u001b[0m \u001b[38;5;28;01mimport\u001b[39;00m \u001b[38;5;21;01mpandas\u001b[39;00m \u001b[38;5;28;01mas\u001b[39;00m \u001b[38;5;21;01mpd\u001b[39;00m\n\u001b[0;32m     16\u001b[0m urlopen \u001b[38;5;241m=\u001b[39m url_request\u001b[38;5;241m.\u001b[39murlopen\n\u001b[0;32m     17\u001b[0m quote_plus \u001b[38;5;241m=\u001b[39m url_parse\u001b[38;5;241m.\u001b[39mquote_plus\n",
      "\u001b[1;31mModuleNotFoundError\u001b[0m: No module named 'pandas'"
     ]
    }
   ],
   "source": [
    "from fredapi import Fred\n",
    "import matplotlib.pyplot as plt\n",
    "import matplotlib.dates as mdates\n",
    "\n",
    "# Initialize the FRED API client\n",
    "fred = Fred(api_key='e8b9ae83016cbd8575ae24ab46c990e1')\n",
    "\n",
    "# Economic indicators\n",
    "indicators = {\n",
    "    'GDP': 'GDP',\n",
    "    'Inflation': 'CPIAUCNS',  # Consumer Price Index for All Urban Consumers: All Items\n",
    "    'Unemployment': 'UNRATE',\n",
    "    'Interest Rate': 'FEDFUNDS'  # Effective Federal Funds Rate\n",
    "}\n",
    "\n",
    "# Get data for each indicator\n",
    "data = {}\n",
    "for key, value in indicators.items():\n",
    "    data[key] = fred.get_series(value)\n",
    "\n",
    "# Filter data for the past 30 years\n",
    "for key in data:\n",
    "    data[key] = data[key].loc['1992-01-01':'2022-01-01']  # Adjust dates based on your requirement\n",
    "\n",
    "# Convert GDP to percentage change\n",
    "data['GDP'] = data['GDP'].pct_change() * 100\n",
    "\n",
    "# Calculate year-over-year percentage change for inflation\n",
    "data['Inflation'] = data['Inflation'].pct_change(12) * 100\n",
    "\n",
    "# Plot GDP as percentage change\n",
    "plt.figure(figsize=(10, 6))\n",
    "plt.plot(data['GDP'].index, data['GDP'].values, color='blue', linestyle='-')\n",
    "plt.title('GDP Percentage Change')\n",
    "plt.xlabel('Year')\n",
    "plt.ylabel('Percentage Change')\n",
    "plt.grid(True)\n",
    "plt.xticks(rotation=45)\n",
    "plt.tight_layout()\n",
    "plt.show()\n",
    "\n",
    "# Plot Inflation as year-over-year percentage change\n",
    "plt.figure(figsize=(10, 6))\n",
    "plt.plot(data['Inflation'].index, data['Inflation'].values, color='red', linestyle='-')\n",
    "plt.title('Inflation Year-over-Year Percentage Change')\n",
    "plt.xlabel('Year')\n",
    "plt.ylabel('Percentage Change')\n",
    "plt.grid(True)\n",
    "plt.xticks(rotation=45)\n",
    "plt.tight_layout()\n",
    "plt.show()\n",
    "\n",
    "# Plot Unemployment rate\n",
    "plt.figure(figsize=(10, 6))\n",
    "plt.plot(data['Unemployment'].index, data['Unemployment'].values, color='green', linestyle='-')\n",
    "plt.title('Unemployment Rate')\n",
    "plt.xlabel('Year')\n",
    "plt.ylabel('Unemployment Rate (%)')\n",
    "plt.grid(True)\n",
    "plt.xticks(rotation=45)\n",
    "plt.tight_layout()\n",
    "plt.show()\n",
    "\n",
    "# Plot Interest Rate\n",
    "plt.figure(figsize=(10, 6))\n",
    "plt.plot(data['Interest Rate'].index, data['Interest Rate'].values, color='purple', linestyle='-')\n",
    "plt.title('Federal Funds Rate')\n",
    "plt.xlabel('Year')\n",
    "plt.ylabel('Interest Rate (%)')\n",
    "plt.grid(True)\n",
    "plt.xticks(rotation=45)\n",
    "plt.tight_layout()\n",
    "plt.show()"
   ]
  },
  {
   "cell_type": "code",
   "execution_count": null,
   "id": "db90e0f4-a61c-40ba-bb83-227b55ea4908",
   "metadata": {},
   "outputs": [],
   "source": []
  }
 ],
 "metadata": {
  "kernelspec": {
   "display_name": "Python 3 (ipykernel)",
   "language": "python",
   "name": "python3"
  },
  "language_info": {
   "codemirror_mode": {
    "name": "ipython",
    "version": 3
   },
   "file_extension": ".py",
   "mimetype": "text/x-python",
   "name": "python",
   "nbconvert_exporter": "python",
   "pygments_lexer": "ipython3",
   "version": "3.9.18"
  }
 },
 "nbformat": 4,
 "nbformat_minor": 5
}
