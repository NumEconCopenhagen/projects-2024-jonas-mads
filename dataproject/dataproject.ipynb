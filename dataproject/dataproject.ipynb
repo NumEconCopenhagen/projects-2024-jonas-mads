{
 "cells": [
  {
   "cell_type": "markdown",
   "metadata": {},
   "source": [
    "# Economic Indicators Analysis\n",
    "\n",
    "This notebook analyzes various economic indicators using data retrieved from the Federal Reserve Economic Data (FRED) API. The indicators include GDP, inflation, unemployment rate, and interest rates for the United States over the past 30 years."
   ]
  },
  {
   "cell_type": "code",
   "execution_count": 1,
   "metadata": {},
   "outputs": [],
   "source": [
    "from fredapi import Fred\n",
    "import matplotlib.pyplot as plt\n",
    "import matplotlib.dates as mdates\n",
    "\n",
    "# Initialize the FRED API client\n",
    "fred = Fred(api_key='e8b9ae83016cbd8575ae24ab46c990e1')\n",
    "\n",
    "# Economic indicators\n",
    "indicators = {\n",
    "    'GDP': 'GDP',\n",
    "    'Inflation': 'CPIAUCNS',  # Consumer Price Index for All Urban Consumers: All Items\n",
    "    'Unemployment': 'UNRATE',\n",
    "    'Interest Rate': 'FEDFUNDS'  # Effective Federal Funds Rate\n",
    "}\n",
    "\n",
    "# Get data for each indicator\n",
    "data = {}\n",
    "for key, value in indicators.items():\n",
    "    data[key] = fred.get_series(value)\n",
    "\n",
    "# Filter data for the past 30 years\n",
    "for key in data:\n",
    "    data[key] = data[key].loc['1992-01-01':'2022-01-01']  # Adjust dates based on your requirement\n",
    "\n",
    "# Convert GDP to percentage change\n",
    "data['GDP'] = data['GDP'].pct_change() * 100\n",
    "\n",
    "# Calculate year-over-year percentage change for inflation\n",
    "data['Inflation'] = data['Inflation'].pct_change(12) * 100"
   ]
  },
  {
   "cell_type": "markdown",
   "metadata": {},
   "source": [
    "## GDP Percentage Change\n",
    "\n",
    "This graph displays the percentage change in GDP over time. It indicates the growth or decline of the economy."
   ]
  },
  {
   "cell_type": "code",
   "execution_count": null,
   "metadata": {},
   "outputs": [],
   "source": [
    "# Plot GDP as percentage change\n",
    "plt.figure(figsize=(10, 6))\n",
    "plt.plot(data['GDP'].index, data['GDP'].values, color='blue', linestyle='-')\n",
    "plt.title('GDP Percentage Change')\n",
    "plt.xlabel('Year')\n",
    "plt.ylabel('Percentage Change')\n",
    "plt.grid(True)\n",
    "plt.xticks(rotation=45)\n",
    "plt.tight_layout()\n",
    "plt.show()"
   ]
  },
  {
   "cell_type": "markdown",
   "metadata": {},
   "source": [
    "## Inflation Year-over-Year Percentage Change\n",
    "\n",
    "This graph shows the year-over-year percentage change in inflation. It indicates the rate at which prices are increasing or decreasing over time."
   ]
  },
  {
   "cell_type": "code",
   "execution_count": null,
   "metadata": {},
   "outputs": [],
   "source": [
    "# Plot Inflation as year-over-year percentage change\n",
    "plt.figure(figsize=(10, 6))\n",
    "plt.plot(data['Inflation'].index, data['Inflation'].values, color='red', linestyle='-')\n",
    "plt.title('Inflation Year-over-Year Percentage Change')\n",
    "plt.xlabel('Year')\n",
    "plt.ylabel('Percentage Change')\n",
    "plt.grid(True)\n",
    "plt.xticks(rotation=45)\n",
    "plt.tight_layout()\n",
    "plt.show()"
   ]
  },
  {
   "cell_type": "markdown",
   "metadata": {},
   "source": [
    "## Unemployment Rate\n",
    "\n",
    "This graph illustrates the unemployment rate over time. It indicates the percentage of the labor force that is unemployed."
   ]
  },
  {
   "cell_type": "code",
   "execution_count": null,
   "metadata": {},
   "outputs": [],
   "source": [
    "# Plot Unemployment rate\n",
    "plt.figure(figsize=(10, 6))\n",
    "plt.plot(data['Unemployment'].index, data['Unemployment'].values, color='green', linestyle='-')\n",
    "plt.title('Unemployment Rate')\n",
    "plt.xlabel('Year')\n",
    "plt.ylabel('Unemployment Rate (%)')\n",
    "plt.grid(True)\n",
    "plt.xticks(rotation=45)\n",
    "plt.tight_layout()\n",
    "plt.show()"
   ]
  },
  {
   "cell_type": "markdown",
   "metadata": {},
   "source": [
    "## Federal Funds Rate\n",
    "\n",
    "This graph displays the Federal Funds Rate over time. It indicates the interest rate at which depository institutions lend reserve balances to other depository institutions overnight."
   ]
  },
  {
   "cell_type": "code",
   "execution_count": null,
   "metadata": {},
   "outputs": [],
   "source": [
    "# Plot Interest Rate\n",
    "plt.figure(figsize=(10, 6))\n",
    "plt.plot(data['Interest Rate'].index, data['Interest Rate'].values, color='purple', linestyle='-')\n",
    "plt.title('Federal Funds Rate')\n",
    "plt.xlabel('Year')\n",
    "plt.ylabel('Interest Rate (%)')\n",
    "plt.grid(True)\n",
    "plt.xticks(rotation=45)\n",
    "plt.tight_layout()\n",
    "plt.show()"
   ]
  }
 ],
 "metadata": {
  "kernelspec": {
   "display_name": "Python 3",
   "language": "python",
   "name": "python3"
  },
  "language_info": {
   "codemirror_mode": {
    "name": "ipython",
    "version": 3
   },
   "file_extension": ".py",
   "mimetype": "text/x-python",
   "name": "python",
   "nbconvert_exporter": "python",
   "pygments_lexer": "ipython3",
   "version": "3.8.5"
  }
 },
 "nbformat": 4,
 "nbformat_minor": 4
}
